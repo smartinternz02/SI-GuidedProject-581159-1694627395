{
  "nbformat": 4,
  "nbformat_minor": 0,
  "metadata": {
    "colab": {
      "provenance": []
    },
    "kernelspec": {
      "name": "python3",
      "display_name": "Python 3"
    },
    "language_info": {
      "name": "python"
    }
  },
  "cells": [
    {
      "cell_type": "code",
      "execution_count": null,
      "metadata": {
        "colab": {
          "base_uri": "https://localhost:8080/"
        },
        "id": "qgkdADOEaXaZ",
        "outputId": "ae81f268-5b48-4173-bad3-e882776e1633"
      },
      "outputs": [
        {
          "output_type": "stream",
          "name": "stdout",
          "text": [
            "DataFrame:\n",
            "   Random value 1  Random value 2  Random value 3  Random value 4\n",
            "0        0.652746        0.300830        0.261533        0.658399\n",
            "1        0.848576        0.570187        0.011155        0.449477\n",
            "2        0.922493        0.658401        0.123670        0.497764\n",
            "3        0.236878        0.124944        0.776856        0.885427\n",
            "\n",
            "Descriptive Statistics:\n",
            "       Random value 1  Random value 2  Random value 3  Random value 4\n",
            "count        4.000000        4.000000        4.000000        4.000000\n",
            "mean         0.665173        0.413590        0.293304        0.622767\n",
            "std          0.307377        0.245280        0.338238        0.196567\n",
            "min          0.236878        0.124944        0.011155        0.449477\n",
            "25%          0.548779        0.256858        0.095541        0.485692\n",
            "50%          0.750661        0.435508        0.192602        0.578081\n",
            "75%          0.867055        0.592240        0.390364        0.715156\n",
            "max          0.922493        0.658401        0.776856        0.885427\n",
            "\n",
            "Null Values:\n",
            "Random value 1    0\n",
            "Random value 2    0\n",
            "Random value 3    0\n",
            "Random value 4    0\n",
            "dtype: int64\n",
            "\n",
            "Data Types:\n",
            "Random value 1    float64\n",
            "Random value 2    float64\n",
            "Random value 3    float64\n",
            "Random value 4    float64\n",
            "dtype: object\n",
            "\n",
            "Random value 2 (Location Method):\n",
            "0    0.300830\n",
            "1    0.570187\n",
            "2    0.658401\n",
            "3    0.124944\n",
            "Name: Random value 2, dtype: float64\n",
            "\n",
            "Random value 3 (Location Method):\n",
            "0    0.261533\n",
            "1    0.011155\n",
            "2    0.123670\n",
            "3    0.776856\n",
            "Name: Random value 3, dtype: float64\n",
            "\n",
            "Random value 2 (Index Method):\n",
            "0    0.300830\n",
            "1    0.570187\n",
            "2    0.658401\n",
            "3    0.124944\n",
            "Name: Random value 2, dtype: float64\n",
            "\n",
            "Random value 3 (Index Method):\n",
            "0    0.261533\n",
            "1    0.011155\n",
            "2    0.123670\n",
            "3    0.776856\n",
            "Name: Random value 3, dtype: float64\n"
          ]
        }
      ],
      "source": [
        "import pandas as pd\n",
        "import numpy as np\n",
        "# Create a pandas DataFrame with random values\n",
        "data = np.random.rand(4, 4)\n",
        "df = pd.DataFrame(data, columns=['Random value 1', 'Random value 2', 'Random value 3', 'Random value 4'])\n",
        "# Display descriptive statistics of the DataFrame\n",
        "descriptive_stats = df.describe()\n",
        "# Check for null values and data types of columns\n",
        "null_values = df.isnull().sum()\n",
        "data_types = df.dtypes\n",
        "# Display 'Random value 2' & 'Random value 3' columns using location and index methods\n",
        "random_value_2_location = df.iloc[:, 1]\n",
        "random_value_3_location = df.iloc[:, 2]\n",
        "random_value_2_index = df['Random value 2']\n",
        "random_value_3_index = df['Random value 3']\n",
        "# Print the results\n",
        "print(\"DataFrame:\")\n",
        "print(df)\n",
        "print(\"\\nDescriptive Statistics:\")\n",
        "print(descriptive_stats)\n",
        "print(\"\\nNull Values:\")\n",
        "print(null_values)\n",
        "print(\"\\nData Types:\")\n",
        "print(data_types)\n",
        "print(\"\\nRandom value 2 (Location Method):\")\n",
        "print(random_value_2_location)\n",
        "print(\"\\nRandom value 3 (Location Method):\")\n",
        "print(random_value_3_location)\n",
        "print(\"\\nRandom value 2 (Index Method):\")\n",
        "print(random_value_2_index)\n",
        "print(\"\\nRandom value 3 (Index Method):\")\n",
        "print(random_value_3_index)\n"
      ]
    }
  ]
}